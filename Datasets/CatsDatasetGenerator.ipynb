{
 "cells": [
  {
   "cell_type": "code",
   "execution_count": 1,
   "id": "63655e66-e1ed-4e82-80e0-a2202922d90d",
   "metadata": {},
   "outputs": [],
   "source": [
    "import pandas as pd\n",
    "\n",
    "data = {\n",
    "    \"Cat ID\": [1, 2, 3, 4, 5, 6, 7, 8, 9, 10,\n",
    "               11, 12, 13, 14, 15, 16, 17, 18, 19, 20],\n",
    "    \"Age (Years)\": [2, 5, 3, 7, 1, 4, 3, 6, 2, 8,\n",
    "                    4, 3, 1, None, 6, 5, 8, 7, 3, 1],\n",
    "    \"Weight (kg)\": [4.5, 5.0, 3.8, 6.2, 3.0, 4.1, 4.0, 5.5, 4.2, 7.0,\n",
    "                    5.3, 3.5, 3.2, 4.4, None, 4.9, 6.1, 6.5, 4.6, 3.1],\n",
    "    \"Hours of Sleep (per day)\": [16, 14, 15, 18, 20, 17, 19, 16, 15, 12,\n",
    "                                  None, None, 19, 16, 15, 14, 13, None, 17, 20],\n",
    "    \"Number of Toys\": [5, 8, 10, 3, 6, 7, 2, 4, 9, 1,\n",
    "                       8, 6, 6, 7, 9, 5, 2, 4, 6, 8],\n",
    "    \"Treats Consumed (per week)\": [10, 12, 8, 15, 5, 11, 9, 7, 14, 20,\n",
    "                                     10, 11, 12, 10, 8, 15, 20, 9, 10, 12],\n",
    "    \"Purring Volume (dB)\": [60, 65, 70, 58, 67, 72, 68, 66, 64, 59,\n",
    "                            71, None, 63, 62, 64, 68, 70, 69, 65, 66]\n",
    "}\n",
    "\n",
    "cat_df = pd.DataFrame(data)\n",
    "\n",
    "csv_file_path = 'whiskers_and_purrs.csv'\n",
    "cat_df.to_csv(csv_file_path, index=False)"
   ]
  }
 ],
 "metadata": {
  "kernelspec": {
   "display_name": "Python 3 (ipykernel)",
   "language": "python",
   "name": "python3"
  },
  "language_info": {
   "codemirror_mode": {
    "name": "ipython",
    "version": 3
   },
   "file_extension": ".py",
   "mimetype": "text/x-python",
   "name": "python",
   "nbconvert_exporter": "python",
   "pygments_lexer": "ipython3",
   "version": "3.11.7"
  }
 },
 "nbformat": 4,
 "nbformat_minor": 5
}
